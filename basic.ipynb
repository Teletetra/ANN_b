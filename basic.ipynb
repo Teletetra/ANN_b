{
 "cells": [
  {
   "cell_type": "code",
   "execution_count": 1,
   "metadata": {},
   "outputs": [],
   "source": [
    "import numpy as np "
   ]
  },
  {
   "cell_type": "code",
   "execution_count": 2,
   "metadata": {},
   "outputs": [],
   "source": [
    "# np.dot\n",
    "# # vectors (1-D)array it compute the dot product of the vector\n",
    "# # matrices (2-D)array ,it perform matrix multiplication\n",
    "## mixed dimension it treat them as 1-D vector and return the output product of them\n",
    "# Dot product of two vectors\n",
    "# vector1 = np.array([1, 2, 3])\n",
    "# vector2 = np.array([4, 5, 6])\n",
    "# dot_product_vectors = np.dot(vector1, vector2)\n",
    "# # Output: 32 (1*4 + 2*5 + 3*6)\n",
    "# Matrix multiplication \n",
    "# matrix1 = np.array([[1, 2], [3, 4]]) \n",
    "# matrix2 = np.array([[5, 6], [7, 8]])\n",
    "# dot_product_matrices = np.dot(matrix1, matrix2) \n",
    "# # Output: [[19 22]\n",
    "# import numpy as np\n",
    "\n",
    "# # Outer product of two vectors\n",
    "# vector1 = np.array([1, 2, 3])\n",
    "# vector2 = np.array([4, 5, 6])\n",
    "# outer_product = np.outer(vector1, vector2)\n",
    "# # Output: [[ 4  5  6]\n",
    "# #          [ 8 10 12]\n",
    "# #          [12 15 18]]\n",
    "\n"
   ]
  },
  {
   "cell_type": "code",
   "execution_count": 10,
   "metadata": {},
   "outputs": [],
   "source": [
    "class HebbianLearning:\n",
    "    \n",
    "    def __init__(self,input_size,output_size):\n",
    "        self.weights=np.zeros((input_size,output_size))\n",
    "    \n",
    "    def train(self,inputs,outputs):\n",
    "        for x,y in zip(inputs,outputs):\n",
    "            self.weights+=np.outer(x,y)\n",
    "    \n",
    "    def predict(self,inputs):\n",
    "        return np.dot(inputs,self.weights)\n",
    "    \n",
    "            "
   ]
  },
  {
   "cell_type": "code",
   "execution_count": 11,
   "metadata": {},
   "outputs": [
    {
     "name": "stdout",
     "output_type": "stream",
     "text": [
      "Weights after training:\n",
      " [[ 2.  1.]\n",
      " [ 1.  2.]\n",
      " [-1.  1.]]\n",
      "Prediction for test input [1, 0, 1]: [1. 2.]\n"
     ]
    }
   ],
   "source": [
    "input_size = 3\n",
    "output_size = 2\n",
    "hebbian = HebbianLearning(input_size, output_size)\n",
    "\n",
    "# Training data\n",
    "inputs = np.array([[1, 0, -1], [0, 1, 1], [1, 1, 0], [1, 1, -1]])\n",
    "outputs = np.array([[1, 0], [0, 1], [1, 1], [0, 0]])\n",
    "\n",
    "# Train the model\n",
    "hebbian.train(inputs, outputs)\n",
    "\n",
    "# Predict\n",
    "test_input = np.array([1, 0, 1])\n",
    "prediction = hebbian.predict(test_input)\n",
    "\n",
    "print(\"Weights after training:\\n\", hebbian.weights)\n",
    "print(\"Prediction for test input [1, 0, 1]:\", prediction)\n"
   ]
  },
  {
   "cell_type": "code",
   "execution_count": null,
   "metadata": {},
   "outputs": [],
   "source": []
  }
 ],
 "metadata": {
  "kernelspec": {
   "display_name": "Python 3",
   "language": "python",
   "name": "python3"
  },
  "language_info": {
   "codemirror_mode": {
    "name": "ipython",
    "version": 3
   },
   "file_extension": ".py",
   "mimetype": "text/x-python",
   "name": "python",
   "nbconvert_exporter": "python",
   "pygments_lexer": "ipython3",
   "version": "3.11.5"
  },
  "orig_nbformat": 4,
  "vscode": {
   "interpreter": {
    "hash": "5238573367df39f7286bb46f9ff5f08f63a01a80960060ce41e3c79b190280fa"
   }
  }
 },
 "nbformat": 4,
 "nbformat_minor": 2
}
