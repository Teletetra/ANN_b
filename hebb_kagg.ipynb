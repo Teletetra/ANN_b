{
 "cells": [
  {
   "cell_type": "code",
   "execution_count": 4,
   "metadata": {},
   "outputs": [],
   "source": [
    "import numpy as np"
   ]
  },
  {
   "cell_type": "code",
   "execution_count": 10,
   "metadata": {},
   "outputs": [],
   "source": [
    "def hebbian_update(inputs,outputs,weights,learning_rate=0.01):\n",
    "    for i in range(len(weights)):\n",
    "        weights[i]+=learning_rate*inputs[i]*outputs\n",
    "    \n",
    "        "
   ]
  },
  {
   "cell_type": "code",
   "execution_count": 11,
   "metadata": {},
   "outputs": [
    {
     "name": "stdout",
     "output_type": "stream",
     "text": [
      "[0.32344665 0.36207238]\n",
      "[0.33344665 0.36207238]\n",
      "[0.35344665 0.38207238]\n"
     ]
    }
   ],
   "source": [
    "inputs = np.array([[0, 1], [1, 0], [1, 1]])\n",
    "outputs = np.array([1, 1, 2])\n",
    "weights = np.random.rand(2)\n",
    "\n",
    "for x,y in zip(inputs,outputs):\n",
    "    hebbian_update(x,y,weights)\n",
    "    print(weights)"
   ]
  },
  {
   "cell_type": "code",
   "execution_count": 15,
   "metadata": {},
   "outputs": [
    {
     "name": "stdout",
     "output_type": "stream",
     "text": [
      "Learned weights: [-0.3343097   0.26256281  0.1018681 ]\n"
     ]
    }
   ],
   "source": [
    "inputs = np.array([[1, 0, 0], [1, 0, 1], [1, 1, 0], [1, 1, 1]])\n",
    "# Corresponding outputs ([0, 0, 0, 1] for an AND gate)\n",
    "outputs = np.array([0, 0, 0, 1])\n",
    "\n",
    "def hebbian_learn_and(inputs,outputs,learning_rate=0.1,epochs=20):\n",
    "    input_shape=inputs.shape[1]\n",
    "    weights=np.random.rand(input_shape)\n",
    "    \n",
    "    for epoch in range(epochs):\n",
    "        for i,j in zip(inputs,outputs):\n",
    "            neuron_output=1 if np.dot(weights,i) >0 else 0\n",
    "            weights+=learning_rate*i*(j-neuron_output)\n",
    "    \n",
    "    return weights\n",
    "\n",
    "inputs = np.array([[1, 0, 0], [1, 0, 1], [1, 1, 0], [1, 1, 1]])\n",
    "# Outputs (correct for an AND gate)\n",
    "outputs = np.array([0, 0, 0, 1])\n",
    "\n",
    "# Train the model on the AND gate\n",
    "weights = hebbian_learn_and(inputs, outputs)\n",
    "print(\"Learned weights:\", weights)"
   ]
  }
 ],
 "metadata": {
  "kernelspec": {
   "display_name": "Python 3",
   "language": "python",
   "name": "python3"
  },
  "language_info": {
   "codemirror_mode": {
    "name": "ipython",
    "version": 3
   },
   "file_extension": ".py",
   "mimetype": "text/x-python",
   "name": "python",
   "nbconvert_exporter": "python",
   "pygments_lexer": "ipython3",
   "version": "3.11.5"
  },
  "orig_nbformat": 4,
  "vscode": {
   "interpreter": {
    "hash": "5238573367df39f7286bb46f9ff5f08f63a01a80960060ce41e3c79b190280fa"
   }
  }
 },
 "nbformat": 4,
 "nbformat_minor": 2
}
