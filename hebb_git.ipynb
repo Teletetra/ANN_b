{
 "cells": [
  {
   "cell_type": "code",
   "execution_count": 2,
   "metadata": {},
   "outputs": [],
   "source": [
    "import numpy as np\n",
    "import pandas as pd"
   ]
  },
  {
   "cell_type": "code",
   "execution_count": 3,
   "metadata": {},
   "outputs": [
    {
     "name": "stdout",
     "output_type": "stream",
     "text": [
      "[ 1.  -1.   0.   0.5]\n",
      "[array([ 1. , -2. ,  1.5,  0. ]), array([ 1. , -0.5, -2. , -1.5]), array([ 0. ,  1. , -1. ,  1.5])]\n"
     ]
    }
   ],
   "source": [
    "w=np.array([1,-1,0,0.5]).transpose()\n",
    "Xi=[np.array([1,-2,1.5,0]).transpose(), np.array([1,-0.5,-2,-1.5]).\n",
    "    transpose(), np.array([0,1,-1,1.5]).transpose()]\n",
    "C=1\n",
    "Iteration=0\n",
    "print(w)\n",
    "print (Xi) \n",
    "#print(len(xi))"
   ]
  },
  {
   "cell_type": "code",
   "execution_count": 4,
   "metadata": {},
   "outputs": [
    {
     "name": "stdout",
     "output_type": "stream",
     "text": [
      "weight vector for this iteration: [ 2.  -3.   1.5  0.5]\n",
      "weight vector for this iteration: [ 1.  -2.5  3.5  2. ]\n",
      "weight vector for this iteration: [ 1.  -3.5  4.5  0.5]\n"
     ]
    }
   ],
   "source": [
    "for i in range(len(Xi)): \n",
    "    net=sum(w.transpose()*Xi[i])\n",
    "    Fnet=np.sign(net)\n",
    "    dw=C*Fnet*Xi[i]\n",
    "    w=w+dw \n",
    "    print('weight vector for this iteration:',w)\n",
    "    Iteration+=1"
   ]
  }
 ],
 "metadata": {
  "kernelspec": {
   "display_name": "Python 3",
   "language": "python",
   "name": "python3"
  },
  "language_info": {
   "codemirror_mode": {
    "name": "ipython",
    "version": 3
   },
   "file_extension": ".py",
   "mimetype": "text/x-python",
   "name": "python",
   "nbconvert_exporter": "python",
   "pygments_lexer": "ipython3",
   "version": "3.11.5"
  },
  "orig_nbformat": 4,
  "vscode": {
   "interpreter": {
    "hash": "5238573367df39f7286bb46f9ff5f08f63a01a80960060ce41e3c79b190280fa"
   }
  }
 },
 "nbformat": 4,
 "nbformat_minor": 2
}
